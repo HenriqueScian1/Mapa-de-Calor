{
  "nbformat": 4,
  "nbformat_minor": 0,
  "metadata": {
    "colab": {
      "provenance": [],
      "include_colab_link": true
    },
    "kernelspec": {
      "name": "python3",
      "display_name": "Python 3"
    },
    "accelerator": "GPU"
  },
  "cells": [
    {
      "cell_type": "markdown",
      "metadata": {
        "id": "view-in-github",
        "colab_type": "text"
      },
      "source": [
        "<a href=\"https://colab.research.google.com/github/HenriqueScian1/Mapa-de-Calor/blob/main/Mapa_de_Calor.ipynb\" target=\"_parent\"><img src=\"https://colab.research.google.com/assets/colab-badge.svg\" alt=\"Open In Colab\"/></a>"
      ]
    },
    {
      "cell_type": "markdown",
      "metadata": {
        "id": "mOXVjfv1ptSE"
      },
      "source": [
        "# Corpo - Mapa de calor\n",
        "\n"
      ]
    },
    {
      "cell_type": "markdown",
      "metadata": {
        "id": "LBA5Bn1Lj-En"
      },
      "source": [
        "## **Etapa 1 - Importando as bibliotecas**"
      ]
    },
    {
      "cell_type": "code",
      "metadata": {
        "id": "_WMUayC4Ltk9",
        "colab": {
          "base_uri": "https://localhost:8080/",
          "height": 36
        },
        "outputId": "90e5f387-4028-47e8-9cde-c34b64bb6b76"
      },
      "source": [
        "import cv2\n",
        "import matplotlib.pyplot as plt\n",
        "import zipfile\n",
        "\n",
        "cv2.__version__"
      ],
      "execution_count": null,
      "outputs": [
        {
          "output_type": "execute_result",
          "data": {
            "text/plain": [
              "'4.12.0'"
            ],
            "application/vnd.google.colaboratory.intrinsic+json": {
              "type": "string"
            }
          },
          "metadata": {},
          "execution_count": 5
        }
      ]
    },
    {
      "cell_type": "markdown",
      "metadata": {
        "id": "myqKIqkLlEzP"
      },
      "source": [
        "## **Etapa 2 - Conectando com o Drive e acessando os arquivos**\n",
        "\n",
        "\n"
      ]
    },
    {
      "cell_type": "code",
      "metadata": {
        "id": "Scedg8xENAlX",
        "colab": {
          "base_uri": "https://localhost:8080/",
          "height": 304
        },
        "outputId": "d8e30519-ec6a-48ef-c1a8-fe8e585d75d8"
      },
      "source": [
        "from google.colab import drive\n",
        "drive.mount('/content/drive')"
      ],
      "execution_count": null,
      "outputs": [
        {
          "output_type": "error",
          "ename": "ValueError",
          "evalue": "mount failed",
          "traceback": [
            "\u001b[0;31m---------------------------------------------------------------------------\u001b[0m",
            "\u001b[0;31mValueError\u001b[0m                                Traceback (most recent call last)",
            "\u001b[0;32m/tmp/ipython-input-1408506528.py\u001b[0m in \u001b[0;36m<cell line: 0>\u001b[0;34m()\u001b[0m\n\u001b[1;32m      1\u001b[0m \u001b[0;32mfrom\u001b[0m \u001b[0mgoogle\u001b[0m\u001b[0;34m.\u001b[0m\u001b[0mcolab\u001b[0m \u001b[0;32mimport\u001b[0m \u001b[0mdrive\u001b[0m\u001b[0;34m\u001b[0m\u001b[0;34m\u001b[0m\u001b[0m\n\u001b[0;32m----> 2\u001b[0;31m \u001b[0mdrive\u001b[0m\u001b[0;34m.\u001b[0m\u001b[0mmount\u001b[0m\u001b[0;34m(\u001b[0m\u001b[0;34m'/content/drive'\u001b[0m\u001b[0;34m)\u001b[0m\u001b[0;34m\u001b[0m\u001b[0;34m\u001b[0m\u001b[0m\n\u001b[0m",
            "\u001b[0;32m/usr/local/lib/python3.12/dist-packages/google/colab/drive.py\u001b[0m in \u001b[0;36mmount\u001b[0;34m(mountpoint, force_remount, timeout_ms, readonly)\u001b[0m\n\u001b[1;32m     95\u001b[0m \u001b[0;32mdef\u001b[0m \u001b[0mmount\u001b[0m\u001b[0;34m(\u001b[0m\u001b[0mmountpoint\u001b[0m\u001b[0;34m,\u001b[0m \u001b[0mforce_remount\u001b[0m\u001b[0;34m=\u001b[0m\u001b[0;32mFalse\u001b[0m\u001b[0;34m,\u001b[0m \u001b[0mtimeout_ms\u001b[0m\u001b[0;34m=\u001b[0m\u001b[0;36m120000\u001b[0m\u001b[0;34m,\u001b[0m \u001b[0mreadonly\u001b[0m\u001b[0;34m=\u001b[0m\u001b[0;32mFalse\u001b[0m\u001b[0;34m)\u001b[0m\u001b[0;34m:\u001b[0m\u001b[0;34m\u001b[0m\u001b[0;34m\u001b[0m\u001b[0m\n\u001b[1;32m     96\u001b[0m   \u001b[0;34m\"\"\"Mount your Google Drive at the specified mountpoint path.\"\"\"\u001b[0m\u001b[0;34m\u001b[0m\u001b[0;34m\u001b[0m\u001b[0m\n\u001b[0;32m---> 97\u001b[0;31m   return _mount(\n\u001b[0m\u001b[1;32m     98\u001b[0m       \u001b[0mmountpoint\u001b[0m\u001b[0;34m,\u001b[0m\u001b[0;34m\u001b[0m\u001b[0;34m\u001b[0m\u001b[0m\n\u001b[1;32m     99\u001b[0m       \u001b[0mforce_remount\u001b[0m\u001b[0;34m=\u001b[0m\u001b[0mforce_remount\u001b[0m\u001b[0;34m,\u001b[0m\u001b[0;34m\u001b[0m\u001b[0;34m\u001b[0m\u001b[0m\n",
            "\u001b[0;32m/usr/local/lib/python3.12/dist-packages/google/colab/drive.py\u001b[0m in \u001b[0;36m_mount\u001b[0;34m(mountpoint, force_remount, timeout_ms, ephemeral, readonly)\u001b[0m\n\u001b[1;32m    270\u001b[0m             \u001b[0;34m'https://research.google.com/colaboratory/faq.html#drive-timeout'\u001b[0m\u001b[0;34m\u001b[0m\u001b[0;34m\u001b[0m\u001b[0m\n\u001b[1;32m    271\u001b[0m         )\n\u001b[0;32m--> 272\u001b[0;31m       \u001b[0;32mraise\u001b[0m \u001b[0mValueError\u001b[0m\u001b[0;34m(\u001b[0m\u001b[0;34m'mount failed'\u001b[0m \u001b[0;34m+\u001b[0m \u001b[0mextra_reason\u001b[0m\u001b[0;34m)\u001b[0m\u001b[0;34m\u001b[0m\u001b[0;34m\u001b[0m\u001b[0m\n\u001b[0m\u001b[1;32m    273\u001b[0m     \u001b[0;32melif\u001b[0m \u001b[0mcase\u001b[0m \u001b[0;34m==\u001b[0m \u001b[0;36m4\u001b[0m\u001b[0;34m:\u001b[0m\u001b[0;34m\u001b[0m\u001b[0;34m\u001b[0m\u001b[0m\n\u001b[1;32m    274\u001b[0m       \u001b[0;31m# Terminate the DriveFS binary before killing bash.\u001b[0m\u001b[0;34m\u001b[0m\u001b[0;34m\u001b[0m\u001b[0m\n",
            "\u001b[0;31mValueError\u001b[0m: mount failed"
          ]
        }
      ]
    },
    {
      "cell_type": "code",
      "metadata": {
        "id": "8WfkeaXeNfeu"
      },
      "source": [
        "pose_path = '/content/drive/My Drive/pose.zip'\n",
        "zip_object = zipfile.ZipFile(file = pose_path, mode = \"r\")\n",
        "zip_object.extractall(\"./\")"
      ],
      "execution_count": null,
      "outputs": []
    },
    {
      "cell_type": "code",
      "metadata": {
        "id": "ymrNkCW-OSuT"
      },
      "source": [
        "imagens_path = '/content/drive/My Drive/imagens.zip'\n",
        "zip_object = zipfile.ZipFile(file = imagens_path, mode = \"r\")\n",
        "zip_object.extractall(\"./\")\n",
        "zip_object.close()"
      ],
      "execution_count": null,
      "outputs": []
    },
    {
      "cell_type": "markdown",
      "metadata": {
        "id": "97GjMfNrmiev"
      },
      "source": [
        "## **Etapa 3 - Acessando as estruturas da rede neural pré-treinados**"
      ]
    },
    {
      "cell_type": "code",
      "metadata": {
        "id": "l3ytdUjWP1Be"
      },
      "source": [
        "arquivo_proto = \"/content/pose/body/mpi/pose_deploy_linevec_faster_4_stages.prototxt\"\n",
        "arquivo_pesos = \"/content/pose/body/mpi/pose_iter_160000.caffemodel\""
      ],
      "execution_count": null,
      "outputs": []
    },
    {
      "cell_type": "markdown",
      "metadata": {
        "id": "6SJU4-P5qTwB"
      },
      "source": [
        "## **Etapa 4 - Carregando uma imagem do Drive.**"
      ]
    },
    {
      "cell_type": "code",
      "metadata": {
        "id": "CjoTFCPNRZGY"
      },
      "source": [
        "imagem = cv2.imread(\"/content/imagens/body/multiple/multiple_1.jpeg\")"
      ],
      "execution_count": null,
      "outputs": []
    },
    {
      "cell_type": "code",
      "metadata": {
        "id": "LiLzwKZbRlPv"
      },
      "source": [
        "imagem.shape"
      ],
      "execution_count": null,
      "outputs": []
    },
    {
      "cell_type": "code",
      "metadata": {
        "id": "QYB05Z00RtFh"
      },
      "source": [
        "from google.colab.patches import cv2_imshow\n",
        "cv2_imshow(imagem)"
      ],
      "execution_count": null,
      "outputs": []
    },
    {
      "cell_type": "code",
      "metadata": {
        "id": "JDeGWiLBSHJq"
      },
      "source": [
        "imagem_largura = imagem.shape[1]\n",
        "imagem_altura = imagem.shape[0]"
      ],
      "execution_count": null,
      "outputs": []
    },
    {
      "cell_type": "code",
      "metadata": {
        "id": "8HkE8FQBSTX5"
      },
      "source": [
        "imagem_largura, imagem_altura"
      ],
      "execution_count": null,
      "outputs": []
    },
    {
      "cell_type": "markdown",
      "metadata": {
        "id": "VZnewU9Yr-X6"
      },
      "source": [
        "## **Etapa 5 - Ler o modelo carregado na Etapa 3**\n",
        "\n"
      ]
    },
    {
      "cell_type": "code",
      "metadata": {
        "id": "JPX9Ya_vT2lj"
      },
      "source": [
        "modelo = cv2.dnn.readNetFromCaffe(arquivo_proto, arquivo_pesos)"
      ],
      "execution_count": null,
      "outputs": []
    },
    {
      "cell_type": "markdown",
      "metadata": {
        "id": "ugJVVypNspX8"
      },
      "source": [
        "## **Etapa 6 - Definir as dimensões da imagem de entrada.**\n",
        "\n",
        "\n",
        "\n"
      ]
    },
    {
      "cell_type": "code",
      "metadata": {
        "id": "cG0GNbkhU3Mb"
      },
      "source": [
        "altura_entrada = 368\n",
        "largura_entrada = int((altura_entrada / imagem_altura) * imagem_largura)"
      ],
      "execution_count": null,
      "outputs": []
    },
    {
      "cell_type": "code",
      "metadata": {
        "id": "esjHAtQMVrmQ"
      },
      "source": [
        "largura_entrada"
      ],
      "execution_count": null,
      "outputs": []
    },
    {
      "cell_type": "markdown",
      "metadata": {
        "id": "L2NRz7BfwHP-"
      },
      "source": [
        "## **Etapa 7 - Converter a imagem do formato openCV para o formato blob Caffe**"
      ]
    },
    {
      "cell_type": "code",
      "metadata": {
        "id": "xbN4nmJxW_RB"
      },
      "source": [
        "blob_entrada = cv2.dnn.blobFromImage(image = imagem, scalefactor = 1.0 / 255,\n",
        "                                     size = (largura_entrada, altura_entrada),\n",
        "                                     mean = (0, 0, 0), swapRB = False, crop = False)"
      ],
      "execution_count": null,
      "outputs": []
    },
    {
      "cell_type": "markdown",
      "metadata": {
        "id": "ttl50rLc72a-"
      },
      "source": [
        "## **Etapa 8 - Saída**"
      ]
    },
    {
      "cell_type": "code",
      "metadata": {
        "id": "VzEvFKfpYt0Z"
      },
      "source": [
        "modelo.setInput(blob_entrada)\n",
        "saida = modelo.forward()"
      ],
      "execution_count": null,
      "outputs": []
    },
    {
      "cell_type": "code",
      "metadata": {
        "id": "P6yj-DbtZKbl"
      },
      "source": [
        "saida.shape"
      ],
      "execution_count": null,
      "outputs": []
    },
    {
      "cell_type": "code",
      "metadata": {
        "id": "mhrIyV_dZeQM"
      },
      "source": [
        "saida[0].shape"
      ],
      "execution_count": null,
      "outputs": []
    },
    {
      "cell_type": "code",
      "metadata": {
        "id": "WLHv6PvsZkPE"
      },
      "source": [
        "saida[0][0]"
      ],
      "execution_count": null,
      "outputs": []
    },
    {
      "cell_type": "code",
      "metadata": {
        "id": "nweKw-U8asSL"
      },
      "source": [
        "ponto = 3\n",
        "mapa_confianca = saida[0, ponto, :, :]\n",
        "mapa_confianca = cv2.resize(mapa_confianca, (imagem_largura, imagem_altura))"
      ],
      "execution_count": null,
      "outputs": []
    },
    {
      "cell_type": "code",
      "metadata": {
        "id": "Wle453TxbeM6"
      },
      "source": [
        "plt.figure(figsize = [14, 10])\n",
        "plt.imshow(cv2.cvtColor(imagem, cv2.COLOR_BGR2RGB))\n",
        "plt.imshow(mapa_confianca, alpha = 0.6)\n",
        "plt.axis(\"off\")"
      ],
      "execution_count": null,
      "outputs": []
    },
    {
      "cell_type": "code",
      "metadata": {
        "id": "gKsxIOYfgf7o"
      },
      "source": [
        "ponto = 30\n",
        "mapa_confianca = saida[0, ponto, :, :]\n",
        "mapa_confianca = cv2.resize(mapa_confianca, (imagem_largura, imagem_altura))\n",
        "plt.figure(figsize = [14, 10])\n",
        "plt.imshow(cv2.cvtColor(imagem, cv2.COLOR_BGR2RGB))\n",
        "plt.imshow(mapa_confianca, alpha = 0.6)\n",
        "plt.axis(\"off\")"
      ],
      "execution_count": null,
      "outputs": []
    }
  ]
}